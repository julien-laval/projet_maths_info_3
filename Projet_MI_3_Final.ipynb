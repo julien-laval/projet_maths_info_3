{
 "cells": [
  {
   "cell_type": "markdown",
   "metadata": {},
   "source": [
    "# __Projet Maths-Info #3 : Câble sous-marin__"
   ]
  },
  {
   "cell_type": "markdown",
   "metadata": {},
   "source": [
    "Binôme: Julien LAVAL et Nathan LINÉ."
   ]
  },
  {
   "cell_type": "markdown",
   "metadata": {},
   "source": [
    "Ce notebook développe un code qui permet d'estimer la longueur de câble sous-marin nécessaire pour relier deux côtes A et B, à l'aide d'une simulation conditionnelle."
   ]
  },
  {
   "cell_type": "markdown",
   "metadata": {},
   "source": [
    "Tout d'abord, on importe les librairies Python dont on aura besoin : "
   ]
  },
  {
   "cell_type": "code",
   "execution_count": 1,
   "metadata": {},
   "outputs": [],
   "source": [
    "import numpy as np\n",
    "import math\n",
    "import matplotlib.pyplot as plt\n",
    "import random as rd"
   ]
  },
  {
   "cell_type": "markdown",
   "metadata": {},
   "source": [
    "## Questions théoriques :"
   ]
  },
  {
   "cell_type": "markdown",
   "metadata": {},
   "source": [
    "1) Les $(l_{(k)})_{k \\leq K}$ sont des réalisations de variables aléatoires indépendantes identiquement distribuées, qui suivent la même loi et qui admettent une espérance (car $L$* existe).  \n",
    "Ainsi, la __loi forte des grands nombres__ nous autorise à estimer l'espérance conditionnelle $L$* par la moyenne empirique des $(l_{(k)})_{k \\leq K}$.  \n",
    "Elle assure une convergence presque-sure de cette moyenne empirique vers $L$*."
   ]
  },
  {
   "cell_type": "markdown",
   "metadata": {},
   "source": [
    " "
   ]
  },
  {
   "cell_type": "markdown",
   "metadata": {},
   "source": [
    "2) $\\textbf{Z}$ est un vecteur aléatoire gaussien, de vecteur d'espérance $M = (\\mu, ..., \\mu)$ et de matrice de covariance $\\Sigma = (\\sigma_{ij})_{i,j \\leq N}$.  \n",
    "  \n",
    "On note $\\textbf{Z} = (Z_1, Z_2)$ avec $Z_1$ points sans observations, $Z_2$ points avec observations.  \n",
    "On a alors $M = (m_1, m_2), \\;\\Sigma = \n",
    "\\begin{pmatrix}\n",
    "\\Sigma_{Z_1} & \\Sigma_{Z_1, Z_2} \\\\\n",
    "\\Sigma_{Z_2, Z_1} & \\Sigma_{Z_2}\n",
    "\\end{pmatrix}.$  \n",
    "  \n",
    "Alors, $(Z_1 | Z_2 = z)$ est une gaussienne  d'espérance $m_{Z_1|Z_2 = z} = m_{Z_1} + \\Sigma_{Z_1, Z_2} \\Sigma_{Z_2}^{-1} (z-m_{Z_2})$,  \n",
    "et de matrice de covariance $\\Sigma_{Z_1|Z_2 = z} = \\Sigma_{Z_1} - \\Sigma_{Z_1, Z_2} \\Sigma_{Z_2}^{-1} \\Sigma_{Z_2, Z_1}$.\n",
    "\n",
    "Dans la suite, on pourra utiliser ce résultat même si les composantes connues du vecteur ne sont pas toutes à la fin. En effet, en extrayant les bonnes lignes et colonnes on obtient la matrice de covariance que l'on aurait si le vecteur Z était réorganisé avec d'abord les indices de position inconnus par ordre croissant, puis les indices connus par ordre croissant à la fin."
   ]
  },
  {
   "cell_type": "markdown",
   "metadata": {},
   "source": [
    " "
   ]
  },
  {
   "cell_type": "markdown",
   "metadata": {},
   "source": [
    "3) Si $R$ est une matrice constante et $Y$ un vecteur aléatoire gaussien, alors $RY$ est un vecteur aléatoire gaussien.  \n",
    "  \n",
    "En effet, on pose $R = (R_{ij})_{i,j \\leq p}\\,, \\; m = \\,^t (m_1, ..., m_p)$ et $Y = \\,^t (Y_1, ..., Y_p)$.  \n",
    "Pour $i \\leq p, \\; [RY]_i = \\sum \\limits_{k=1}^{p} R_{i,k}Y_k $.  \n",
    "$[RY]_i$ est une combinaison linéaire des composantes de $Y$, donc suit une loi gaussienne par définition de vecteur aléatoire gaussien. De plus, le vecteur $RY$ est bien gaussien car toute combinaison linéaire de ses composantes $RY_{i}$ est une combinaison linéaire des composantes de $Y$. (En effet, une combinaison linéaire de combinaisons linéaires est bien une combinaison linéaire)\n",
    "De plus, les espérances se somment et par indépendance des $(Y_i)$, les variances également : $[RY]_i$ suit la loi $\\mathcal{N}(0, \\sum \\limits_{k=1}^{p} R_{i,k}^2)$.Ajouter le vecteur m n'ajoute qu'une constante à chaque loi gaussienne, on ajoute alors aux combinaisons linéaires de gaussiennes une constante qui conserve le caractère gaussien.\n",
    "$RY + m$ est alors un vecteur gaussien d'espérance m et de matrice de covariance $RR^{t}$.\n"
   ]
  },
  {
   "cell_type": "markdown",
   "metadata": {},
   "source": [
    " "
   ]
  },
  {
   "cell_type": "markdown",
   "metadata": {},
   "source": [
    "4) Des questions précédentes, on déduit un algorithme pour faire la simulation conditionnelle de $L$* :  \n",
    "Selon la question 2), on sait que $(Z_1 | Z_2 = z)$ est un vecteur gaussien d'espérance $m_{Z_1|Z_2 = z}$ et de matrice de covariance $\\Sigma_{Z_1|Z_2 = z}$.  \n",
    "On simule alors $(Z_1 | Z_2 = z)$ en le décomposant :\n",
    "- on calcule la matrice de covariance $\\Sigma_{Z_1|Z_2 = z}$ puis sa _décomposition de Cholesky_ , qui donne alors $R$ telle que $\\Sigma_{Z_1|Z_2 = z} = R R^t$ ce qui est possible car la covariance entre 2 points du vecteur conditionnel (hors points connus) est décroissante avec la distance qui les sépare, ce qui selon l'énoncé nous assure que la matrice est bien définie positive, ce qui assure l'existence de la décomposition. \n",
    "- on simule un vecteur aléatoire gaussien Y, composé de (N+1-n) composantes gaussiennes indépendantes, toutes d'espérance nulle et de variance 1 :  \n",
    "par exemple, avec la méthode _Box-Muller_ présentée dans le cours Proba V.\n",
    "- Ainsi, $(m_{Z_1|Z_2 = z} + RY)$ est un vecteur gaussien d'espérance $m_{Z_1|Z_2 = z}$, et de matrice de covariance $\\Sigma_{Z_1|Z_2 = z}$.  \n",
    "Il suit dont la même loi que $(Z_1 | Z_2 = z)$, et permet ainsi de le simuler.\n",
    "    "
   ]
  },
  {
   "cell_type": "markdown",
   "metadata": {},
   "source": [
    " "
   ]
  },
  {
   "cell_type": "markdown",
   "metadata": {},
   "source": [
    "## Implémentation :"
   ]
  },
  {
   "cell_type": "markdown",
   "metadata": {},
   "source": [
    "#### Préambule"
   ]
  },
  {
   "cell_type": "code",
   "execution_count": 2,
   "metadata": {},
   "outputs": [],
   "source": [
    "#Discrétisation\n",
    "\n",
    "A = 0\n",
    "B = 500\n",
    "N = 101 #Nombre de points de discrétisation\n",
    "Delta = (B-A)/(N-1)\n",
    "discretization_indexes = np.arange(N)\n",
    "discretization = discretization_indexes*Delta\n",
    "\n",
    "#Paramètres du modèle\n",
    "\n",
    "mu = -5.\n",
    "a = 50\n",
    "sigma2 = 12.\n",
    "\n",
    "#Données\n",
    "\n",
    "observation_indexes = [0,20,40,60,80,100]\n",
    "depth = np.array([0.,-4.,-12.8,-1.,-6.5,0.])\n",
    "\n",
    "unknown_indexes=list(set(discretization_indexes)-set(observation_indexes))"
   ]
  },
  {
   "cell_type": "markdown",
   "metadata": {},
   "source": [
    "#### Questions "
   ]
  },
  {
   "cell_type": "code",
   "execution_count": 3,
   "metadata": {},
   "outputs": [],
   "source": [
    "#1\n",
    "def calcul_cov(A, a, sigma2):\n",
    "    n = A.shape[0]\n",
    "    D = np.zeros((n,n))\n",
    "    for i in range(n):\n",
    "        for j in range(n):\n",
    "            D[i][j] = sigma2 * np.exp(-A[i][j]/a)\n",
    "    return(D)"
   ]
  },
  {
   "cell_type": "code",
   "execution_count": 4,
   "metadata": {},
   "outputs": [],
   "source": [
    "#2\n",
    "mat_dist_Z = np.array([[Delta*abs(j-i) for i in range(N)] for j in range(N)])"
   ]
  },
  {
   "cell_type": "code",
   "execution_count": 5,
   "metadata": {},
   "outputs": [],
   "source": [
    "#3\n",
    "mat_cov_Z = calcul_cov(mat_dist_Z, a, sigma2)"
   ]
  },
  {
   "cell_type": "code",
   "execution_count": 6,
   "metadata": {},
   "outputs": [],
   "source": [
    "#4 \n",
    "\n",
    "# matrice de covariance entre les observations :\n",
    "l = len(observation_indexes)       \n",
    "mat_cov_obs = np.zeros((l,l))\n",
    "for (p,i) in enumerate(observation_indexes):\n",
    "    for (q,j) in enumerate(observation_indexes):\n",
    "        mat_cov_obs[p,q] = mat_cov_Z[i,j]\n",
    "\n",
    "# matrice de covariance entre les inconnues :\n",
    "long = N - l\n",
    "mat_cov_unknown = np.zeros((long,long))\n",
    "for (p,i) in enumerate(unknown_indexes):\n",
    "    for (q,j) in enumerate(unknown_indexes):\n",
    "        mat_cov_unknown[p,q] = mat_cov_Z[i,j]\n",
    "        \n",
    "# matrice de covariance entre les observations et les inconnues :\n",
    "mat_cov_obs_unknown = np.zeros((long,l))\n",
    "for (p,i) in enumerate(unknown_indexes):\n",
    "    for (q,j) in enumerate(observation_indexes):\n",
    "        mat_cov_obs_unknown[p,q] = mat_cov_Z[i,j]"
   ]
  },
  {
   "cell_type": "code",
   "execution_count": 7,
   "metadata": {},
   "outputs": [
    {
     "data": {
      "image/png": "[encoded data removed]",
      "text/plain": [
       "<Figure size 432x288 with 1 Axes>"
      ]
     },
     "metadata": {
      "needs_background": "light"
     },
     "output_type": "display_data"
    }
   ],
   "source": [
    "#5\n",
    "esp_conditionnelle = np.array([mu for i in range(long)]).T + np.dot(np.dot(mat_cov_obs_unknown,np.linalg.inv(mat_cov_obs)),depth.T - np.array([mu for i in range(l)]).T)\n",
    "\n",
    "plt.plot(unknown_indexes, esp_conditionnelle, marker = 'o')\n",
    "\n",
    "plt.xlabel('indexes')\n",
    "plt.ylabel('espérances conditionnelles')\n",
    "plt.title('espérances conditionnelles')\n",
    "plt.show()"
   ]
  },
  {
   "cell_type": "code",
   "execution_count": 8,
   "metadata": {},
   "outputs": [
    {
     "name": "stderr",
     "output_type": "stream",
     "text": [
      "No handles with labels found to put in legend.\n"
     ]
    },
    {
     "data": {
      "image/png": "[encoded data removed]",
      "text/plain": [
       "<Figure size 432x288 with 1 Axes>"
      ]
     },
     "metadata": {
      "needs_background": "light"
     },
     "output_type": "display_data"
    }
   ],
   "source": [
    "#6\n",
    "\n",
    "# matrice de variance conditionnelle \n",
    "mat_cov_conditionnelle  = mat_cov_unknown -  np.dot(np.dot(mat_cov_obs_unknown,np.linalg.inv(mat_cov_obs)),mat_cov_obs_unknown.T)\n",
    "\n",
    "#sa diagonale\n",
    "diag_mat = np.array([mat_cov_conditionnelle[i,i] for i in range(long)])\n",
    "plt.plot(unknown_indexes,diag_mat, marker = 'o')\n",
    "\n",
    "plt.xlabel('indexes')\n",
    "plt.ylabel('variance')\n",
    "plt.title('Variances conditionnelles')\n",
    "plt.legend()\n",
    "plt.show()"
   ]
  },
  {
   "cell_type": "markdown",
   "metadata": {},
   "source": [
    "La courbe obtenue a bien l'allure attendue : on obtient une variance presque périodique, qui semble tendre vers 0 lorsque l'on tend vers les points connus, et qui est maximale au milieu de l'intervalle entre deux points connus.(car les points connus ont moins d'influence sur les points les plus éloignés) De plus, la variance reste bien inférieure à $\\sigma^2 = 12.5$, qui correspond à la variance avec aucune observation. (En effet on s'attend à ce que les informations diminues l'incertitude sur la profondeur des points inconnus)"
   ]
  },
  {
   "cell_type": "code",
   "execution_count": 10,
   "metadata": {},
   "outputs": [
    {
     "data": {
      "image/png": "[encoded data removed]",
      "text/plain": [
       "<Figure size 432x288 with 1 Axes>"
      ]
     },
     "metadata": {
      "needs_background": "light"
     },
     "output_type": "display_data"
    }
   ],
   "source": [
    "#7\n",
    "def simulation():\n",
    "    L = np.linalg.cholesky(mat_cov_conditionnelle)\n",
    "    X = np.array([0. for i in range(long)])\n",
    "    for k in range(long):\n",
    "        X[k] = np.sqrt(-2*np.log(rd.random()))*np.cos(2*np.pi*rd.random())\n",
    "    Y = esp_conditionnelle + np.dot(L,X)\n",
    "    #ensuite on réorganise les indices pour obtenir le vecteur Z pour lequel les variables \n",
    "    #sont bien triées par ordre de position croissante.\n",
    "    Z = np.array([0. for i in range(N)])\n",
    "    for i in range(l):\n",
    "        Z[observation_indexes[i]] = depth[i]\n",
    "    for j in range(long):\n",
    "        Z[unknown_indexes[j]] = Y[j]\n",
    "    return(Z)\n",
    "\n",
    "# Plot \n",
    "\n",
    "Z = simulation()\n",
    "\n",
    "esp_tot = np.array([0. for i in range(N)]) #reconstruction des espérances conditionnelles + données\n",
    "for i in range(l):\n",
    "    esp_tot[observation_indexes[i]] = depth[i]\n",
    "for j in range(long):\n",
    "    esp_tot[unknown_indexes[j]] = esp_conditionnelle[j]\n",
    "    \n",
    "plt.plot(discretization_indexes, Z)\n",
    "plt.plot(discretization_indexes, esp_tot)\n",
    "plt.show()"
   ]
  },
  {
   "cell_type": "code",
   "execution_count": 11,
   "metadata": {},
   "outputs": [],
   "source": [
    "#8 \n",
    "def calcul_longueur(Z, Delta):\n",
    "    L = 0\n",
    "    N = len(Z)\n",
    "    for i in range(1, N):\n",
    "        L+= np.sqrt(Delta**2 + (Z[i] - Z[i-1])**2 )\n",
    "    return L"
   ]
  },
  {
   "cell_type": "code",
   "execution_count": 12,
   "metadata": {
    "scrolled": false
   },
   "outputs": [
    {
     "name": "stdout",
     "output_type": "stream",
     "text": [
      "L* = 522.492410872064\n",
      " L' = 501.6468416918411\n"
     ]
    }
   ],
   "source": [
    "#9 \n",
    "\n",
    "#Esperance conditionnnelle simulée de la longueur\n",
    "L_star, K = 0, 100\n",
    "for loop in range(K):\n",
    "    Z = simulation()\n",
    "    L_star += calcul_longueur(Z, Delta)\n",
    "L_star = L_star/K\n",
    "print(f'L* = {L_star}')\n",
    "\n",
    "#Longueur de l'espérance conditionnelle :\n",
    "L_prime = 0\n",
    "\n",
    "esp_tot = np.array([0.0 for i in range(N)]) #reconstruction des espérances\n",
    "for i in range(l):\n",
    "    esp_tot[observation_indexes[i]] = depth[i]\n",
    "for j in range(long):\n",
    "    esp_tot[unknown_indexes[j]] = esp_conditionnelle[j]\n",
    "\n",
    "for i in range(1, N):\n",
    "    L_prime += np.sqrt(Delta**2 + (esp_tot[i] - esp_tot[i-1])**2 )\n",
    "print(f' L\\' = {L_prime}')"
   ]
  },
  {
   "cell_type": "code",
   "execution_count": 13,
   "metadata": {
    "scrolled": true
   },
   "outputs": [
    {
     "name": "stdout",
     "output_type": "stream",
     "text": [
      "501.52237767670647\n"
     ]
    }
   ],
   "source": [
    "# Borne inf de la longueur accessible :\n",
    "L = 0 \n",
    "for i in range(len(observation_indexes)-1):\n",
    "    L+= np.sqrt( (Delta*(observation_indexes[i+1]-observation_indexes[i]))**2 + (depth[i+1] - depth[i])**2)\n",
    "print(L)"
   ]
  },
  {
   "cell_type": "markdown",
   "metadata": {},
   "source": [
    "Commentaire : la longueur de cable trouvée avec le calcul de L' est nettement plus faible car la courbe obtenue est très lisse, ce qui n'arrivera jamais avec la simulation du vecteur gaussien car on aura toujours des fluctuations importantes autour de l'espérance de certaines variables. Ainsi, dans la suite on retiendra le calcul de L*. Celui de L' n'est pas pertinent car cela correspond à une situation très peu probable. La valeur obtenue avec L' est très proche de la valeur minimale que l'on pourrait obtenir."
   ]
  },
  {
   "cell_type": "code",
   "execution_count": 14,
   "metadata": {
    "scrolled": true
   },
   "outputs": [
    {
     "name": "stdout",
     "output_type": "stream",
     "text": [
      "522.4750246697672\n"
     ]
    },
    {
     "data": {
      "image/png": "[encoded data removed]",
      "text/plain": [
       "<Figure size 432x288 with 1 Axes>"
      ]
     },
     "metadata": {
      "needs_background": "light"
     },
     "output_type": "display_data"
    }
   ],
   "source": [
    "#10\n",
    "def M(n):\n",
    "    #suites des moyennes des longueurs jusqu'à n simulations\n",
    "    L_star = 0\n",
    "    L_star_tab = []\n",
    "    for k in range(1, n+1):\n",
    "        Z = simulation()\n",
    "        L_star += calcul_longueur(Z, Delta)\n",
    "        L_star_tab.append(L_star/k)\n",
    "    return L_star_tab\n",
    "\n",
    "print(M(1000)[-1])\n",
    "X = [i for i in range(1000)]\n",
    "plt.plot(X, M(1000))\n",
    "plt.show()"
   ]
  },
  {
   "cell_type": "code",
   "execution_count": 15,
   "metadata": {
    "scrolled": true
   },
   "outputs": [
    {
     "data": {
      "image/png": "[encoded data removed]",
      "text/plain": [
       "<Figure size 432x288 with 1 Axes>"
      ]
     },
     "metadata": {
      "needs_background": "light"
     },
     "output_type": "display_data"
    },
    {
     "data": {
      "image/png": "[encoded data removed]",
      "text/plain": [
       "<Figure size 432x288 with 1 Axes>"
      ]
     },
     "metadata": {
      "needs_background": "light"
     },
     "output_type": "display_data"
    },
    {
     "data": {
      "image/png": "[encoded data removed]",
      "text/plain": [
       "<Figure size 432x288 with 1 Axes>"
      ]
     },
     "metadata": {
      "needs_background": "light"
     },
     "output_type": "display_data"
    }
   ],
   "source": [
    "#11\n",
    "def histogramme(n,pas):\n",
    "    N = int(50/pas)\n",
    "    y = [0. for k in range(N)]\n",
    "    a = 1/(n*pas)\n",
    "    for k in range(n):\n",
    "        Z = simulation()\n",
    "        resu = calcul_longueur(Z, Delta)\n",
    "        rang = int((resu-501)/pas)\n",
    "        y[rang] +=a\n",
    "    x = [501+k*pas for k in range(N)]\n",
    "    plt.plot(x,y,linestyle = \"\",marker = \"o\")\n",
    "    plt.show()\n",
    "    \n",
    "#on discrétise les valeurs qui peuvent être prises pour la longueur,\n",
    "#on crée une liste qui pour n simulations donne pour chaque indice k le nombre de simulations\n",
    "#comprisent entre 501+k*pas et 501+(k+1)*pas.(on commence à 501m car on ne pourra pas avoir moins)\n",
    "# On divise toutes les valeurs par le nombre n*pas pour obtenir une densité de probabilité.\n",
    "#la courbe obtenue est une densité de probabilité\n",
    "#pour que la courbe soit significative, il faut bien plus de simulations que de valeurs qui peuvent\n",
    "#être prises ie on doit avoir n >> 50/pas\n",
    "\n",
    "histogramme(1000,1)\n",
    "histogramme(10000,0.1)\n",
    "histogramme(100000,0.1)"
   ]
  },
  {
   "cell_type": "code",
   "execution_count": null,
   "metadata": {},
   "outputs": [],
   "source": [
    "#12\n",
    "#méthode 1: histogramme\n",
    "def maximum(n):\n",
    "    S = 0\n",
    "    for k in range(n):\n",
    "        Z = simulation()\n",
    "        s = calcul_longueur(Z,Delta)\n",
    "        if s>S:\n",
    "            S = s\n",
    "    return(S)\n",
    "\n",
    "maximum(100000)\n",
    "\n",
    "#On a besoin d'avoir une valeur majorante de la longueur du cable pour l'implémentation qui suit.\n",
    "#On se contente d'une valeur qui peut être prise, mais qui est tellement peu probable qu'on\n",
    "#peut considérer qu'elle ne sera pas excédée. En exécutant maximum sur 100 000 simulation \n",
    "#On ne dépasse pas les 540m donc on peut prendre 550m et considérer qu'on ne le dépassera pas.\n",
    "\n",
    "def intervalle_de_confiance(n,pas):\n",
    "    N = int(50/pas)\n",
    "    l = [0 for k in range(N)]\n",
    "    S = 0\n",
    "    for k in range(n):\n",
    "        Z = simulation()\n",
    "        resu = calcul_longueur(Z, Delta)\n",
    "        S += resu\n",
    "        rang = int((resu-501)/pas)\n",
    "        l[rang] +=1\n",
    "    esperance = S/n\n",
    "    rg_esp = int((esperance-501)/pas)\n",
    "    M = l[rg_esp]\n",
    "    k = 0\n",
    "    while M/n < 0.95:\n",
    "        k+=1\n",
    "        M = M + l[rg_esp+k] + l[rg_esp-k]\n",
    "    return((501+pas*(rg_esp-k),501+pas*(rg_esp+k)))\n",
    "\n",
    "intervalle_de_confiance(1000,1)\n",
    "intervalle_de_confiance(10000,0.1)\n",
    "intervalle_de_confiance(100000,0.1)\n",
    "\n",
    "#cette première méthode est basée sur l'histogramme en refaisant comme précédemment sauf que l'on\n",
    "#calcule l'espérance au cours des n simulations plutôt que de le faire à part car on aurait\n",
    "#une estimation de l'espérance basée sur d'autres simulations que celles qui permettent de calculer\n",
    "#l'intervalle de confiance. On part de la moyenne et on élargit jusqu'à avoir 95% des simulations\n",
    "#dedans.\n",
    "\n",
    "#méthode 2 : approximation par une gaussienne\n",
    "\n",
    "def intervalle_de_confiance2(n,pas):\n",
    "    N = int(50/pas)\n",
    "    y = [0. for k in range(N)]\n",
    "    a = 1/(n*pas)\n",
    "    S = 0\n",
    "    for k in range(n):\n",
    "        Z = simulation()\n",
    "        resu = calcul_longueur(Z, Delta)\n",
    "        S += resu\n",
    "        rang = int((resu-501)/pas)\n",
    "        y[rang] +=a\n",
    "    esp = S/n\n",
    "    rang_esp = int((esp-501)/pas)\n",
    "    sigma = 1/(np.sqrt(2*np.pi)*y[rang_esp])\n",
    "    return(esp-sigma*1.96,esp+sigma*1.96)\n",
    "\n",
    "#On utilise la valeur de la densité de probabilité d'une gaussienne d'écart-type sigma  \n",
    "#calculé en l'espérance pour obtenir sigma.On applique alors la formule donnant l'intervalle de \n",
    "#confiance à 95% pour une gaussienne.\n",
    "\n",
    "intervalle_de_confiance2(1000,1)\n",
    "intervalle_de_confiance2(10000,0.1)\n",
    "intervalle_de_confiance2(100000,0.1)"
   ]
  },
  {
   "cell_type": "code",
   "execution_count": null,
   "metadata": {},
   "outputs": [],
   "source": [
    "#13\n",
    "def proba_525(n):\n",
    "    S = 0\n",
    "    for k in range(n):\n",
    "        Z = simulation()\n",
    "        if calcul_longueur(Z, Delta) >= 525:\n",
    "            S +=1\n",
    "    return(S/n)\n",
    "\n",
    "proba(1000)\n",
    "proba(10000)\n",
    "proba(100000)"
   ]
  }
 ],
 "metadata": {
  "kernelspec": {
   "display_name": "Python 3",
   "language": "python",
   "name": "python3"
  },
  "language_info": {
   "codemirror_mode": {
    "name": "ipython",
    "version": 3
   },
   "file_extension": ".py",
   "mimetype": "text/x-python",
   "name": "python",
   "nbconvert_exporter": "python",
   "pygments_lexer": "ipython3",
   "version": "3.6.3"
  }
 },
 "nbformat": 4,
 "nbformat_minor": 2
}
